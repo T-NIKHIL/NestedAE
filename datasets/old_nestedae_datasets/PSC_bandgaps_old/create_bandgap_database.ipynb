{
 "cells": [
  {
   "cell_type": "code",
   "execution_count": 2,
   "id": "fece2579",
   "metadata": {},
   "outputs": [],
   "source": [
    "from pandas import read_csv\n",
    "import pandas as pd\n",
    "import numpy as np"
   ]
  },
  {
   "cell_type": "code",
   "execution_count": 4,
   "id": "a72d839a",
   "metadata": {
    "scrolled": false
   },
   "outputs": [
    {
     "name": "stdout",
     "output_type": "stream",
     "text": [
      "['K', 'Rb', 'Cs', 'MA', 'FA']\n",
      "       K   Rb   Cs   MA   FA\n",
      "0    0.0  0.0  0.0  1.0  0.0\n",
      "1    0.0  0.0  0.0  1.0  0.0\n",
      "2    0.0  0.0  0.0  1.0  0.0\n",
      "3    0.0  0.0  0.0  1.0  0.0\n",
      "4    0.0  0.0  0.0  1.0  0.0\n",
      "..   ...  ...  ...  ...  ...\n",
      "489  0.0  0.0  0.0  0.0  1.0\n",
      "490  0.0  0.0  0.0  0.0  1.0\n",
      "491  0.0  0.0  0.0  1.0  0.0\n",
      "492  0.0  0.0  0.0  1.0  0.0\n",
      "493  0.0  0.0  0.0  0.0  1.0\n",
      "\n",
      "[494 rows x 5 columns]\n",
      "['Ca', 'Sr', 'Ba', 'Ge', 'Sn', 'Pb']\n",
      "      Ca   Sr   Ba   Ge   Sn   Pb\n",
      "0    0.0  0.0  0.0  1.0  0.0  0.0\n",
      "1    0.0  0.0  0.0  1.0  0.0  0.0\n",
      "2    0.0  0.0  0.0  1.0  0.0  0.0\n",
      "3    0.0  0.0  0.0  0.0  1.0  0.0\n",
      "4    0.0  0.0  0.0  0.0  1.0  0.0\n",
      "..   ...  ...  ...  ...  ...  ...\n",
      "489  0.0  0.0  0.0  1.0  0.0  0.0\n",
      "490  0.0  0.0  0.0  0.0  1.0  0.0\n",
      "491  0.0  0.0  0.0  0.0  0.0  1.0\n",
      "492  0.0  1.0  0.0  0.0  0.0  0.0\n",
      "493  0.0  1.0  0.0  0.0  0.0  0.0\n",
      "\n",
      "[494 rows x 6 columns]\n",
      "['Cl', 'Br', 'I']\n",
      "        Cl   Br      I\n",
      "0    1.000  0.0  0.000\n",
      "1    0.000  1.0  0.000\n",
      "2    0.000  0.0  1.000\n",
      "3    1.000  0.0  0.000\n",
      "4    0.000  1.0  0.000\n",
      "..     ...  ...    ...\n",
      "489  0.627  0.0  0.377\n",
      "490  0.877  0.0  0.125\n",
      "491  0.377  0.0  0.627\n",
      "492  0.250  0.0  0.750\n",
      "493  0.500  0.0  0.500\n",
      "\n",
      "[494 rows x 3 columns]\n"
     ]
    },
    {
     "ename": "IndexError",
     "evalue": "index 56 is out of bounds for axis 0 with size 55",
     "output_type": "error",
     "traceback": [
      "\u001b[0;31m---------------------------------------------------------------------------\u001b[0m",
      "\u001b[0;31mIndexError\u001b[0m                                Traceback (most recent call last)",
      "Cell \u001b[0;32mIn[4], line 31\u001b[0m\n\u001b[1;32m     28\u001b[0m tf \u001b[39m=\u001b[39m (df\u001b[39m.\u001b[39mA_ion_rad \u001b[39m+\u001b[39m df\u001b[39m.\u001b[39mX_ion_rad)\u001b[39m/\u001b[39m((\u001b[39m2\u001b[39m\u001b[39m*\u001b[39m\u001b[39m*\u001b[39m\u001b[39m0.5\u001b[39m)\u001b[39m*\u001b[39m(df\u001b[39m.\u001b[39mB_ion_rad \u001b[39m+\u001b[39m df\u001b[39m.\u001b[39mX_ion_rad))\n\u001b[1;32m     30\u001b[0m \u001b[39m# Step 2 : Insert properties\u001b[39;00m\n\u001b[0;32m---> 31\u001b[0m df\u001b[39m.\u001b[39;49minsert(\u001b[39m56\u001b[39;49m, \u001b[39m'\u001b[39;49m\u001b[39mTolerance Factor\u001b[39;49m\u001b[39m'\u001b[39;49m, tf)\n\u001b[1;32m     33\u001b[0m \u001b[39m# Step 3 : Save to csv \u001b[39;00m\n\u001b[1;32m     34\u001b[0m df\u001b[39m.\u001b[39mto_csv(\u001b[39m'\u001b[39m\u001b[39mPSC_bandgaps_dataset.csv\u001b[39m\u001b[39m'\u001b[39m, header\u001b[39m=\u001b[39m\u001b[39mTrue\u001b[39;00m, index\u001b[39m=\u001b[39m\u001b[39mFalse\u001b[39;00m)\n",
      "File \u001b[0;32m~/miniconda3/envs/nestedae/lib/python3.9/site-packages/pandas/core/frame.py:4948\u001b[0m, in \u001b[0;36mDataFrame.insert\u001b[0;34m(self, loc, column, value, allow_duplicates)\u001b[0m\n\u001b[1;32m   4945\u001b[0m     value \u001b[39m=\u001b[39m value\u001b[39m.\u001b[39miloc[:, \u001b[39m0\u001b[39m]\n\u001b[1;32m   4947\u001b[0m value, refs \u001b[39m=\u001b[39m \u001b[39mself\u001b[39m\u001b[39m.\u001b[39m_sanitize_column(value)\n\u001b[0;32m-> 4948\u001b[0m \u001b[39mself\u001b[39;49m\u001b[39m.\u001b[39;49m_mgr\u001b[39m.\u001b[39;49minsert(loc, column, value, refs\u001b[39m=\u001b[39;49mrefs)\n",
      "File \u001b[0;32m~/miniconda3/envs/nestedae/lib/python3.9/site-packages/pandas/core/internals/managers.py:1323\u001b[0m, in \u001b[0;36mBlockManager.insert\u001b[0;34m(self, loc, item, value, refs)\u001b[0m\n\u001b[1;32m   1312\u001b[0m \u001b[39m\u001b[39m\u001b[39m\"\"\"\u001b[39;00m\n\u001b[1;32m   1313\u001b[0m \u001b[39mInsert item at selected position.\u001b[39;00m\n\u001b[1;32m   1314\u001b[0m \n\u001b[0;32m   (...)\u001b[0m\n\u001b[1;32m   1320\u001b[0m \u001b[39mrefs : The reference tracking object of the value to set.\u001b[39;00m\n\u001b[1;32m   1321\u001b[0m \u001b[39m\"\"\"\u001b[39;00m\n\u001b[1;32m   1322\u001b[0m \u001b[39m# insert to the axis; this could possibly raise a TypeError\u001b[39;00m\n\u001b[0;32m-> 1323\u001b[0m new_axis \u001b[39m=\u001b[39m \u001b[39mself\u001b[39;49m\u001b[39m.\u001b[39;49mitems\u001b[39m.\u001b[39;49minsert(loc, item)\n\u001b[1;32m   1325\u001b[0m \u001b[39mif\u001b[39;00m value\u001b[39m.\u001b[39mndim \u001b[39m==\u001b[39m \u001b[39m2\u001b[39m:\n\u001b[1;32m   1326\u001b[0m     value \u001b[39m=\u001b[39m value\u001b[39m.\u001b[39mT\n",
      "File \u001b[0;32m~/miniconda3/envs/nestedae/lib/python3.9/site-packages/pandas/core/indexes/base.py:6942\u001b[0m, in \u001b[0;36mIndex.insert\u001b[0;34m(self, loc, item)\u001b[0m\n\u001b[1;32m   6935\u001b[0m \u001b[39mif\u001b[39;00m arr\u001b[39m.\u001b[39mdtype \u001b[39m!=\u001b[39m \u001b[39mobject\u001b[39m \u001b[39mor\u001b[39;00m \u001b[39mnot\u001b[39;00m \u001b[39misinstance\u001b[39m(\n\u001b[1;32m   6936\u001b[0m     item, (\u001b[39mtuple\u001b[39m, np\u001b[39m.\u001b[39mdatetime64, np\u001b[39m.\u001b[39mtimedelta64)\n\u001b[1;32m   6937\u001b[0m ):\n\u001b[1;32m   6938\u001b[0m     \u001b[39m# with object-dtype we need to worry about numpy incorrectly casting\u001b[39;00m\n\u001b[1;32m   6939\u001b[0m     \u001b[39m# dt64/td64 to integer, also about treating tuples as sequences\u001b[39;00m\n\u001b[1;32m   6940\u001b[0m     \u001b[39m# special-casing dt64/td64 https://github.com/numpy/numpy/issues/12550\u001b[39;00m\n\u001b[1;32m   6941\u001b[0m     casted \u001b[39m=\u001b[39m arr\u001b[39m.\u001b[39mdtype\u001b[39m.\u001b[39mtype(item)\n\u001b[0;32m-> 6942\u001b[0m     new_values \u001b[39m=\u001b[39m np\u001b[39m.\u001b[39;49minsert(arr, loc, casted)\n\u001b[1;32m   6944\u001b[0m \u001b[39melse\u001b[39;00m:\n\u001b[1;32m   6945\u001b[0m     \u001b[39m# error: No overload variant of \"insert\" matches argument types\u001b[39;00m\n\u001b[1;32m   6946\u001b[0m     \u001b[39m# \"ndarray[Any, Any]\", \"int\", \"None\"\u001b[39;00m\n\u001b[1;32m   6947\u001b[0m     new_values \u001b[39m=\u001b[39m np\u001b[39m.\u001b[39minsert(arr, loc, \u001b[39mNone\u001b[39;00m)  \u001b[39m# type: ignore[call-overload]\u001b[39;00m\n",
      "File \u001b[0;32m~/miniconda3/envs/nestedae/lib/python3.9/site-packages/numpy/lib/function_base.py:5505\u001b[0m, in \u001b[0;36minsert\u001b[0;34m(arr, obj, values, axis)\u001b[0m\n\u001b[1;32m   5503\u001b[0m index \u001b[39m=\u001b[39m indices\u001b[39m.\u001b[39mitem()\n\u001b[1;32m   5504\u001b[0m \u001b[39mif\u001b[39;00m index \u001b[39m<\u001b[39m \u001b[39m-\u001b[39mN \u001b[39mor\u001b[39;00m index \u001b[39m>\u001b[39m N:\n\u001b[0;32m-> 5505\u001b[0m     \u001b[39mraise\u001b[39;00m \u001b[39mIndexError\u001b[39;00m(\u001b[39mf\u001b[39m\u001b[39m\"\u001b[39m\u001b[39mindex \u001b[39m\u001b[39m{\u001b[39;00mobj\u001b[39m}\u001b[39;00m\u001b[39m is out of bounds for axis \u001b[39m\u001b[39m{\u001b[39;00maxis\u001b[39m}\u001b[39;00m\u001b[39m \u001b[39m\u001b[39m\"\u001b[39m\n\u001b[1;32m   5506\u001b[0m                      \u001b[39mf\u001b[39m\u001b[39m\"\u001b[39m\u001b[39mwith size \u001b[39m\u001b[39m{\u001b[39;00mN\u001b[39m}\u001b[39;00m\u001b[39m\"\u001b[39m)\n\u001b[1;32m   5507\u001b[0m \u001b[39mif\u001b[39;00m (index \u001b[39m<\u001b[39m \u001b[39m0\u001b[39m):\n\u001b[1;32m   5508\u001b[0m     index \u001b[39m+\u001b[39m\u001b[39m=\u001b[39m N\n",
      "\u001b[0;31mIndexError\u001b[0m: index 56 is out of bounds for axis 0 with size 55"
     ]
    }
   ],
   "source": [
    "df = read_csv('mannodi2022dataset.csv', header=0, skiprows=None)\n",
    "\n",
    "# Properties added\n",
    "# 1. Tolerance Factor\n",
    "# 2. Octahedral Factor\n",
    "\n",
    "# Get the coeffiecint data\n",
    "all_coeffs = df.iloc[:, 5:19]\n",
    "all_ions = list(all_coeffs.columns)\n",
    "a_ions = all_ions[0:5]\n",
    "print(a_ions)\n",
    "a_ion_coeffs = all_coeffs.iloc[:, 0:5]\n",
    "print(a_ion_coeffs)\n",
    "\n",
    "b_ions = all_ions[5:11]\n",
    "print(b_ions)\n",
    "b_ion_coeffs = all_coeffs.iloc[:, 5:11]\n",
    "print(b_ion_coeffs)\n",
    "\n",
    "x_ions = all_ions[11:14]\n",
    "print(x_ions)\n",
    "x_ion_coeffs = all_coeffs.iloc[:, 11:14]\n",
    "print(x_ion_coeffs)\n",
    "\n",
    "# Insert TF\n",
    "########################################################################\n",
    "\n",
    "tf = (df.A_ion_rad + df.X_ion_rad)/((2**0.5)*(df.B_ion_rad + df.X_ion_rad))\n",
    "\n",
    "# Step 2 : Insert properties\n",
    "df.insert(55, 'Tolerance Factor', tf)\n",
    "\n",
    "# Step 3 : Save to csv \n",
    "df.to_csv('PSC_bandgaps_dataset.csv', header=True, index=False)\n",
    "\n",
    "# Insert OF\n",
    "########################################################################\n",
    "\n",
    "of = df.B_ion_rad/df.X_ion_rad \n",
    "\n",
    "# Step 2 : Insert properties\n",
    "df.insert(56, 'Octahedral Factor', of)\n",
    "\n",
    "# Step 3 : Save to csv \n",
    "df.to_csv('PSC_bandgaps_dataset.csv', header=True, index=False)"
   ]
  },
  {
   "cell_type": "code",
   "execution_count": null,
   "id": "48b97de1",
   "metadata": {},
   "outputs": [],
   "source": []
  }
 ],
 "metadata": {
  "kernelspec": {
   "display_name": "Python 3 (ipykernel)",
   "language": "python",
   "name": "python3"
  },
  "language_info": {
   "codemirror_mode": {
    "name": "ipython",
    "version": 3
   },
   "file_extension": ".py",
   "mimetype": "text/x-python",
   "name": "python",
   "nbconvert_exporter": "python",
   "pygments_lexer": "ipython3",
   "version": "3.9.18"
  }
 },
 "nbformat": 4,
 "nbformat_minor": 5
}
