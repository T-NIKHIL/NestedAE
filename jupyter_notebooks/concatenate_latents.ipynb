{
 "cells": [
  {
   "cell_type": "code",
   "execution_count": 3,
   "id": "2299b395-64be-48a5-a0b6-4db98737af63",
   "metadata": {},
   "outputs": [],
   "source": [
    "import pandas as pd"
   ]
  },
  {
   "cell_type": "code",
   "execution_count": 5,
   "id": "07f73c88-de46-46a2-959b-e00b28c32ca2",
   "metadata": {},
   "outputs": [],
   "source": [
    "# Data folder paths and file names\n",
    "dataset_folder_name = 'synthetic_dataset'\n",
    "dataset_file_name = 'synthetic_data_randomSamples_200.csv'\n",
    "new_dataset_file_name = 'synthetic_data_randomSamples_200_with_ae1_latents_concat.csv'\n",
    "run_folder_name = 'results_for_RL_paper'\n",
    "model_folder_name = 'randomSamples_sumf5_trial2_enc_linear_dec_linear_no_predictor_latentd_8_bs_10_lr_0_001_w_l1_0p01_to_enc'\n",
    "AE_number = '1'\n",
    "\n",
    "dataset_folder = '../../datasets/' + dataset_folder_name\n",
    "dataset_file = dataset_folder + '/' + dataset_file_name\n",
    "concatenated_dataset_file = dataset_folder + '/' + new_dataset_file_name\n",
    "\n",
    "run_folder = '../../runs/' + run_folder_name\n",
    "latent_file = run_folder + '/' + model_folder_name + '/submodule_outputs/train/encoder_output_on_fit_end.csv'\n",
    "\n",
    "latents = pd.read_csv(latent_file, header=None, skiprows=None)\n",
    "data = pd.read_csv(dataset_file)\n",
    "\n",
    "# Concat latents of previous AE with inputs to next AE. Note the latents of previous AE will be last in the concatenation.\n",
    "# concat_dataset = pd.concat([latents, data], axis=0, ignore_index=True)\n",
    "\n",
    "for i in range(len(latents.columns)):\n",
    "    data['AE'+ AE_number +'_latent_'+str(i)] = latents[i]\n",
    "\n",
    "data.to_csv(concatenated_dataset_file, index=False)"
   ]
  },
  {
   "cell_type": "code",
   "execution_count": null,
   "id": "b149f576",
   "metadata": {},
   "outputs": [],
   "source": []
  }
 ],
 "metadata": {
  "kernelspec": {
   "display_name": "Python 3 (ipykernel)",
   "language": "python",
   "name": "python3"
  },
  "language_info": {
   "codemirror_mode": {
    "name": "ipython",
    "version": 3
   },
   "file_extension": ".py",
   "mimetype": "text/x-python",
   "name": "python",
   "nbconvert_exporter": "python",
   "pygments_lexer": "ipython3",
   "version": "3.9.18"
  }
 },
 "nbformat": 4,
 "nbformat_minor": 5
}
